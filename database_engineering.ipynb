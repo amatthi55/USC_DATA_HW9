{
 "cells": [
  {
   "cell_type": "code",
   "execution_count": 10,
   "metadata": {
    "collapsed": true
   },
   "outputs": [],
   "source": [
    "import pandas as pd\n",
    "\n",
    "import sqlalchemy\n",
    "from sqlalchemy import create_engine, MetaData\n",
    "from sqlalchemy import Column, Float, Integer, String\n",
    "from sqlalchemy.ext.declarative import declarative_base\n",
    "from sqlalchemy.orm import Session"
   ]
  },
  {
   "cell_type": "code",
   "execution_count": 11,
   "metadata": {
    "collapsed": true
   },
   "outputs": [],
   "source": [
    "#Read in cleaned CSVs\n",
    "\n",
    "measurementsDB = pd.read_csv('clean_hawaii_measurements.csv')\n",
    "stationsDB = pd.read_csv('clean_hawaii_stations.csv')"
   ]
  },
  {
   "cell_type": "code",
   "execution_count": 12,
   "metadata": {
    "collapsed": true
   },
   "outputs": [],
   "source": [
    "#create sqlite database\n",
    "\n",
    "engine = create_engine(\"sqlite:///hawaii.sqlite\")"
   ]
  },
  {
   "cell_type": "code",
   "execution_count": 13,
   "metadata": {
    "collapsed": true
   },
   "outputs": [],
   "source": [
    "conn = engine.connect()"
   ]
  },
  {
   "cell_type": "code",
   "execution_count": 14,
   "metadata": {
    "collapsed": true
   },
   "outputs": [],
   "source": [
    "#create Base class\n",
    "Base = declarative_base()"
   ]
  },
  {
   "cell_type": "code",
   "execution_count": 15,
   "metadata": {
    "collapsed": true
   },
   "outputs": [],
   "source": [
    "#create classes for two tables\n",
    "class Measurements(Base):\n",
    "    __tablename__ = \"measurements\"\n",
    "    \n",
    "    id = Column(Integer, primary_key=True)\n",
    "    station = Column(String)\n",
    "    date = Column(String)\n",
    "    prcp = Column(Float) \n",
    "    tobs = Column(Integer)\n",
    "\n",
    "class Stations(Base):\n",
    "    __tablename__ = \"stations\"\n",
    "    \n",
    "    id = Column(Integer, primary_key=True)\n",
    "    station = Column(String)\n",
    "    name = Column(String)\n",
    "    latitude = Column(Float) \n",
    "    longitude = Column(Float)\n",
    "    elevation = Column(Float)"
   ]
  },
  {
   "cell_type": "code",
   "execution_count": 16,
   "metadata": {
    "collapsed": true
   },
   "outputs": [],
   "source": [
    "#setup tables in sqlite database\n",
    "Base.metadata.create_all(engine)"
   ]
  },
  {
   "cell_type": "code",
   "execution_count": 17,
   "metadata": {
    "collapsed": true
   },
   "outputs": [],
   "source": [
    "#Put CSV DFs in dictionary format\n",
    "data_measurements = measurementsDB.to_dict(orient='records')\n",
    "data_stations = stationsDB.to_dict(orient='records')"
   ]
  },
  {
   "cell_type": "code",
   "execution_count": 18,
   "metadata": {},
   "outputs": [
    {
     "data": {
      "text/plain": [
       "<sqlalchemy.engine.result.ResultProxy at 0x10edcd4a8>"
      ]
     },
     "execution_count": 18,
     "metadata": {},
     "output_type": "execute_result"
    }
   ],
   "source": [
    "#Insert all of the CSV data into the sqlite database\n",
    "metadata = MetaData(bind=engine)\n",
    "metadata.reflect()\n",
    "\n",
    "table_M = sqlalchemy.Table('measurements', metadata, autoload=True)\n",
    "table_S = sqlalchemy.Table('stations', metadata, autoload=True)\n",
    "\n",
    "conn.execute(table_M.insert(), data_measurements)\n",
    "conn.execute(table_S.insert(), data_stations)"
   ]
  }
 ],
 "metadata": {
  "kernelspec": {
   "display_name": "Python 3",
   "language": "python",
   "name": "python3"
  },
  "language_info": {
   "codemirror_mode": {
    "name": "ipython",
    "version": 3
   },
   "file_extension": ".py",
   "mimetype": "text/x-python",
   "name": "python",
   "nbconvert_exporter": "python",
   "pygments_lexer": "ipython3",
   "version": "3.6.3"
  }
 },
 "nbformat": 4,
 "nbformat_minor": 2
}
