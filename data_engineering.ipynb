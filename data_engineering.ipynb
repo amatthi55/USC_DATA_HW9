{
 "cells": [
  {
   "cell_type": "code",
   "execution_count": 11,
   "metadata": {
    "collapsed": true
   },
   "outputs": [],
   "source": [
    "import pandas as pd\n",
    "import matplotlib.pyplot as plt"
   ]
  },
  {
   "cell_type": "code",
   "execution_count": 12,
   "metadata": {
    "collapsed": true
   },
   "outputs": [],
   "source": [
    "#Read in CSVs\n",
    "\n",
    "measurements = pd.read_csv('Resources/hawaii_measurements.csv')\n",
    "stations = pd.read_csv('Resources/hawaii_stations.csv')"
   ]
  },
  {
   "cell_type": "code",
   "execution_count": 13,
   "metadata": {},
   "outputs": [
    {
     "name": "stdout",
     "output_type": "stream",
     "text": [
      "       station        date  prcp  tobs\n",
      "0  USC00519397  2010-01-01  0.08    65\n",
      "1  USC00519397  2010-01-02  0.00    63\n",
      "2  USC00519397  2010-01-03  0.00    74\n",
      "3  USC00519397  2010-01-04  0.00    76\n",
      "4  USC00519397  2010-01-06   NaN    73\n",
      "station     object\n",
      "date        object\n",
      "prcp       float64\n",
      "tobs         int64\n",
      "dtype: object\n",
      "\n",
      "\n",
      "\n",
      "<bound method NDFrame.head of        station                                    name  latitude  longitude  \\\n",
      "0  USC00519397                    WAIKIKI 717.2, HI US  21.27160 -157.81680   \n",
      "1  USC00513117                    KANEOHE 838.1, HI US  21.42340 -157.80150   \n",
      "2  USC00514830  KUALOA RANCH HEADQUARTERS 886.9, HI US  21.52130 -157.83740   \n",
      "3  USC00517948                       PEARL CITY, HI US  21.39340 -157.97510   \n",
      "4  USC00518838              UPPER WAHIAWA 874.3, HI US  21.49920 -158.01110   \n",
      "5  USC00519523      WAIMANALO EXPERIMENTAL FARM, HI US  21.33556 -157.71139   \n",
      "6  USC00519281                     WAIHEE 837.5, HI US  21.45167 -157.84889   \n",
      "7  USC00511918       HONOLULU OBSERVATORY 702.2, HI US  21.31520 -157.99920   \n",
      "8  USC00516128            MANOA LYON ARBO 785.2, HI US  21.33310 -157.80250   \n",
      "\n",
      "   elevation  \n",
      "0        3.0  \n",
      "1       14.6  \n",
      "2        7.0  \n",
      "3       11.9  \n",
      "4      306.6  \n",
      "5       19.5  \n",
      "6       32.9  \n",
      "7        0.9  \n",
      "8      152.4  >\n",
      "station       object\n",
      "name          object\n",
      "latitude     float64\n",
      "longitude    float64\n",
      "elevation    float64\n",
      "dtype: object\n"
     ]
    }
   ],
   "source": [
    "#Look at rows of data and data types\n",
    "\n",
    "print(measurements.head())\n",
    "print(measurements.dtypes)\n",
    "print(\"\\n\\n\")\n",
    "print(stations.head)\n",
    "print(stations.dtypes)\n"
   ]
  },
  {
   "cell_type": "code",
   "execution_count": 14,
   "metadata": {
    "collapsed": true
   },
   "outputs": [],
   "source": [
    "#Convert date column to date data type\n",
    "measurements['date'] = measurements['date'].astype('datetime64[D]')"
   ]
  },
  {
   "cell_type": "code",
   "execution_count": 15,
   "metadata": {},
   "outputs": [
    {
     "name": "stdout",
     "output_type": "stream",
     "text": [
      "station            object\n",
      "date       datetime64[ns]\n",
      "prcp              float64\n",
      "tobs                int64\n",
      "dtype: object\n",
      "0   2010-01-01\n",
      "1   2010-01-02\n",
      "2   2010-01-03\n",
      "3   2010-01-04\n",
      "4   2010-01-06\n",
      "Name: date, dtype: datetime64[ns]\n"
     ]
    }
   ],
   "source": [
    "#Show that date conversion worked\n",
    "print(measurements.dtypes)\n",
    "print(measurements['date'].head())"
   ]
  },
  {
   "cell_type": "code",
   "execution_count": 16,
   "metadata": {},
   "outputs": [
    {
     "data": {
      "image/png": "[encoded data removed]",
      "text/plain": [
       "<matplotlib.figure.Figure at 0x115273b38>"
      ]
     },
     "metadata": {},
     "output_type": "display_data"
    }
   ],
   "source": [
    "#This plot is used to check for temperature or precipitaion values that may have been entered in incorrectly. \n",
    "plt.scatter(measurements['prcp'],measurements['tobs'])\n",
    "plt.ylabel(\"Temp\")\n",
    "plt.xlabel(\"Precip\")\n",
    "plt.show()"
   ]
  },
  {
   "cell_type": "code",
   "execution_count": 17,
   "metadata": {},
   "outputs": [
    {
     "name": "stdout",
     "output_type": "stream",
     "text": [
      "station    19550\n",
      "date       19550\n",
      "prcp       18103\n",
      "tobs       19550\n",
      "dtype: int64\n",
      "19550\n",
      "station      9\n",
      "name         9\n",
      "latitude     9\n",
      "longitude    9\n",
      "elevation    9\n",
      "dtype: int64\n",
      "9\n"
     ]
    }
   ],
   "source": [
    "#Check for NaN values\n",
    "print(measurements.count())\n",
    "print(len(measurements))\n",
    "print(stations.count())\n",
    "print(len(stations))\n",
    "#There are roughly 1,400 NaN values in the prcp field"
   ]
  },
  {
   "cell_type": "code",
   "execution_count": 18,
   "metadata": {},
   "outputs": [
    {
     "data": {
      "text/plain": [
       "USC00517948    689\n",
       "USC00514830    265\n",
       "USC00518838    169\n",
       "USC00516128    128\n",
       "USC00519523     97\n",
       "USC00511918     47\n",
       "USC00519397     39\n",
       "USC00513117     13\n",
       "Name: station, dtype: int64"
      ]
     },
     "execution_count": 18,
     "metadata": {},
     "output_type": "execute_result"
    }
   ],
   "source": [
    "# I wrote this statement to see how the NaN values are distributed between stations.\n",
    "# Station 'USC00517948' has about half the NaN values.\n",
    "measurements.loc[measurements['prcp'].isnull(), :].loc[:,'station'].value_counts()\n"
   ]
  },
  {
   "cell_type": "code",
   "execution_count": 19,
   "metadata": {},
   "outputs": [
    {
     "data": {
      "text/plain": [
       "USC00519281    2772\n",
       "USC00519397    2724\n",
       "USC00513117    2709\n",
       "USC00519523    2669\n",
       "USC00516128    2612\n",
       "USC00514830    2202\n",
       "USC00511918    1979\n",
       "USC00517948    1372\n",
       "USC00518838     511\n",
       "Name: station, dtype: int64"
      ]
     },
     "execution_count": 19,
     "metadata": {},
     "output_type": "execute_result"
    }
   ],
   "source": [
    "# Checking to see the total number of measurements in each station. If we compare the below value_counts \n",
    "# with the above value_counts we can see that even after removing the NaN values the sample sizes for the different\n",
    "# stations remain large.\n",
    "\n",
    "measurements.loc[:,'station'].value_counts()"
   ]
  },
  {
   "cell_type": "code",
   "execution_count": 20,
   "metadata": {
    "collapsed": true
   },
   "outputs": [],
   "source": [
    "# Deciding to Keep NaN values in cleaned data sets because removing NaN rows would\n",
    "# mean removing over a thousand temperature measurements\n",
    "measurements.to_csv('clean_hawaii_measurements.csv', index =False)\n",
    "stations.to_csv('clean_hawaii_stations.csv', index =False)"
   ]
  }
 ],
 "metadata": {
  "kernelspec": {
   "display_name": "Python 3",
   "language": "python",
   "name": "python3"
  },
  "language_info": {
   "codemirror_mode": {
    "name": "ipython",
    "version": 3
   },
   "file_extension": ".py",
   "mimetype": "text/x-python",
   "name": "python",
   "nbconvert_exporter": "python",
   "pygments_lexer": "ipython3",
   "version": "3.6.3"
  }
 },
 "nbformat": 4,
 "nbformat_minor": 2
}
